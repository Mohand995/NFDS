{
 "cells": [
  {
   "cell_type": "code",
   "execution_count": 1,
   "metadata": {},
   "outputs": [],
   "source": [
    "import numpy as np\n",
    "from scipy.linalg import lu"
   ]
  },
  {
   "cell_type": "markdown",
   "metadata": {},
   "source": [
    "### Solve the following system of equations using LU Decomposition method:\n",
    "#### Find L and U by hand.\n",
    "#### Confirm that A=LU then solve.\n",
    "- Ex1. 𝟐𝒙+𝟓𝒚=𝟐𝟏, 𝒙+𝟐𝒚=𝟖.\n",
    "- Ex2. 𝒙𝟏+𝒙𝟐+𝒙𝟑=𝟏, 𝟒𝒙𝟏+𝟑𝒙𝟐−𝒙𝟑=𝟔, 𝟑𝒙𝟏+𝟓𝒙_𝟐+𝟑𝒙𝟑=𝟒\n",
    "\n",
    "#### Use scipy.linalg.lu() to slove the previous system using LU decomposition and compare the results."
   ]
  },
  {
   "cell_type": "markdown",
   "metadata": {},
   "source": [
    "### Note (when using scipy):\n",
    "- In the second system of equations We can see the <b>L and U</b> we get are different from the ones we got by hand. \n",
    "- You will also see there is a permutation matrix <b>P</b> that returned by the <b>lu function</b>. \n",
    "- This permutation matrix record how do we change the order of the equations for easier calculation purposes (for example, if first element in first row is zero, it can not be the pivot equation, since you can not turn the first elements in other rows to zero. Therefore, we need to switch the order of the equations to get a new pivot equation). \n",
    "- If you multiply <b>P with A</b>, you will see that this permutation matrix effect.\n",
    "- You will need to arrange the ouput based on the new matrix <b>A</b> achieved by <b>LU</b> multiplication in order to correctly solve the system of equations."
   ]
  },
  {
   "cell_type": "code",
   "execution_count": 2,
   "metadata": {},
   "outputs": [],
   "source": [
    "A =np.array([[2,5],\n",
    " [1,2]])\n",
    "y=np.array([[21],\n",
    " [ 8]])\n",
    "p, l, u = lu(A)"
   ]
  },
  {
   "cell_type": "code",
   "execution_count": 3,
   "metadata": {},
   "outputs": [
    {
     "data": {
      "text/plain": [
       "array([[21. ],\n",
       "       [-2.5]])"
      ]
     },
     "execution_count": 3,
     "metadata": {},
     "output_type": "execute_result"
    }
   ],
   "source": [
    "l_inv=np.linalg.inv(l)\n",
    "M=l_inv @ y\n",
    "M"
   ]
  },
  {
   "cell_type": "code",
   "execution_count": 4,
   "metadata": {},
   "outputs": [
    {
     "data": {
      "text/plain": [
       "array([[-2.],\n",
       "       [ 5.]])"
      ]
     },
     "execution_count": 4,
     "metadata": {},
     "output_type": "execute_result"
    }
   ],
   "source": [
    "u_inv=np.linalg.inv(u)\n",
    "X=u_inv @ M\n",
    "X"
   ]
  },
  {
   "cell_type": "code",
   "execution_count": 5,
   "metadata": {},
   "outputs": [
    {
     "name": "stdout",
     "output_type": "stream",
     "text": [
      "[[2. 5.]\n",
      " [1. 2.]]\n",
      "-----------\n",
      "[[21. ]\n",
      " [-2.5]]\n"
     ]
    }
   ],
   "source": [
    "LU=l@u\n",
    "\n",
    "M=u@X\n",
    "print(LU)\n",
    "print(\"-----------\")\n",
    "print(M)"
   ]
  },
  {
   "cell_type": "code",
   "execution_count": null,
   "metadata": {},
   "outputs": [],
   "source": []
  },
  {
   "cell_type": "code",
   "execution_count": 6,
   "metadata": {},
   "outputs": [
    {
     "name": "stdout",
     "output_type": "stream",
     "text": [
      "[[1. 0.]\n",
      " [0. 1.]]\n",
      "-----------\n",
      "[[1.  0. ]\n",
      " [0.5 1. ]]\n",
      "-------------\n",
      "[[ 2.   5. ]\n",
      " [ 0.  -0.5]]\n"
     ]
    }
   ],
   "source": [
    "print(p)\n",
    "print(\"-----------\")\n",
    "print(l)\n",
    "print(\"-------------\")\n",
    "print(u)"
   ]
  },
  {
   "cell_type": "markdown",
   "metadata": {},
   "source": [
    "---------------------------------------------------------------------------------------------------------------------"
   ]
  },
  {
   "cell_type": "code",
   "execution_count": 7,
   "metadata": {},
   "outputs": [],
   "source": [
    "A =np.array([[ 1 , 1 , 1],\n",
    " [ 4 , 3 ,-1],\n",
    " [ 3 , 5 , 3]])\n",
    "y=np.array([[1],\n",
    " [ 6],[4]])\n",
    "p, l, u = lu(A)"
   ]
  },
  {
   "cell_type": "code",
   "execution_count": 8,
   "metadata": {},
   "outputs": [
    {
     "data": {
      "text/plain": [
       "array([[6.],\n",
       "       [4.],\n",
       "       [1.]])"
      ]
     },
     "execution_count": 8,
     "metadata": {},
     "output_type": "execute_result"
    }
   ],
   "source": [
    "p_inv=np.linalg.inv(p)\n",
    "y_new= p_inv @ y\n",
    "y_new"
   ]
  },
  {
   "cell_type": "code",
   "execution_count": 9,
   "metadata": {},
   "outputs": [
    {
     "data": {
      "text/plain": [
       "array([[ 4.,  3., -1.],\n",
       "       [ 3.,  5.,  3.],\n",
       "       [ 1.,  1.,  1.]])"
      ]
     },
     "execution_count": 9,
     "metadata": {},
     "output_type": "execute_result"
    }
   ],
   "source": [
    "LU=l@u\n",
    "LU"
   ]
  },
  {
   "cell_type": "code",
   "execution_count": 10,
   "metadata": {},
   "outputs": [
    {
     "data": {
      "text/plain": [
       "array([[ 6.        ],\n",
       "       [-0.5       ],\n",
       "       [-0.45454545]])"
      ]
     },
     "execution_count": 10,
     "metadata": {},
     "output_type": "execute_result"
    }
   ],
   "source": [
    "l_inv=np.linalg.inv(l)\n",
    "M=l_inv @ y_new\n",
    "M"
   ]
  },
  {
   "cell_type": "code",
   "execution_count": 11,
   "metadata": {},
   "outputs": [
    {
     "data": {
      "text/plain": [
       "array([[ 1. ],\n",
       "       [ 0.5],\n",
       "       [-0.5]])"
      ]
     },
     "execution_count": 11,
     "metadata": {},
     "output_type": "execute_result"
    }
   ],
   "source": [
    "u_inv=np.linalg.inv(u)\n",
    "X=u_inv @ M\n",
    "X"
   ]
  },
  {
   "cell_type": "code",
   "execution_count": 12,
   "metadata": {},
   "outputs": [
    {
     "name": "stdout",
     "output_type": "stream",
     "text": [
      "[[0. 0. 1.]\n",
      " [1. 0. 0.]\n",
      " [0. 1. 0.]]\n",
      "------------\n",
      "[[1.         0.         0.        ]\n",
      " [0.75       1.         0.        ]\n",
      " [0.25       0.09090909 1.        ]]\n",
      "-------------\n",
      "[[ 4.          3.         -1.        ]\n",
      " [ 0.          2.75        3.75      ]\n",
      " [ 0.          0.          0.90909091]]\n",
      "------------\n",
      "[[ 4.  3. -1.]\n",
      " [ 3.  5.  3.]\n",
      " [ 1.  1.  1.]]\n",
      "-----------\n",
      "[[ 1  1  1]\n",
      " [ 4  3 -1]\n",
      " [ 3  5  3]]\n"
     ]
    }
   ],
   "source": [
    "print(p)\n",
    "print(\"------------\")\n",
    "print(l)\n",
    "print(\"-------------\")\n",
    "print(u)\n",
    "print(\"------------\")\n",
    "print(LU)\n",
    "print(\"-----------\")\n",
    "print(A)"
   ]
  },
  {
   "cell_type": "code",
   "execution_count": 13,
   "metadata": {},
   "outputs": [
    {
     "name": "stdout",
     "output_type": "stream",
     "text": [
      "[[ 6.        ]\n",
      " [-0.5       ]\n",
      " [-0.45454545]]\n",
      "------------\n",
      "[[ 1. ]\n",
      " [ 0.5]\n",
      " [-0.5]]\n"
     ]
    }
   ],
   "source": [
    "print(M)\n",
    "print(\"------------\")\n",
    "print(X)"
   ]
  },
  {
   "cell_type": "markdown",
   "metadata": {},
   "source": [
    "### Apply the Jacobi and Gauss-Seidel method to solve\n",
    "- 𝟓𝒙𝟏−𝟐𝒙𝟐+𝟑𝒙𝟑=−𝟏, −𝟑𝒙𝟏+𝟗𝒙𝟐+𝒙𝟑=𝟐, 𝟐𝒙𝟏−𝒙𝟐−𝟕𝒙𝟑=𝟑\n",
    "- Solve once without vectorization then use vectorize implementation.\n",
    "- Check for convergance.\n",
    "- Use different tolerence and see the difference between the two methods. e.g. tol: 0.01,0.001,0.0001 ... etc."
   ]
  },
  {
   "cell_type": "markdown",
   "metadata": {},
   "source": [
    "# Without_vectorization"
   ]
  },
  {
   "cell_type": "code",
   "execution_count": 14,
   "metadata": {},
   "outputs": [],
   "source": [
    "A = np.array([[5, -2, 3],\n",
    "     [-3, 9, 1],\n",
    "     [2, -1, -7]])\n",
    "def check_convergence(A):\n",
    "    diag=abs(np.diag(A))\n",
    "    off_diag=abs(abs(A)-np.diag(diag))\n",
    "    off_diagonal=np.sum(off_diag,axis=1)\n",
    "    if (diag > off_diagonal).all():\n",
    "        print(\"stricly  dominant\")\n",
    "    elif (diag ==off_diagonal).any():\n",
    "        print(\"diagonally dominant\")\n",
    "    else :\n",
    "        print(\"not dominant\")"
   ]
  },
  {
   "cell_type": "code",
   "execution_count": 15,
   "metadata": {},
   "outputs": [
    {
     "name": "stdout",
     "output_type": "stream",
     "text": [
      "diagonally dominant\n"
     ]
    }
   ],
   "source": [
    "A = np.array([[5, -2, 3],\n",
    "     [-3, 9, 1],\n",
    "     [2, -1, -7]])\n",
    "\n",
    "check_convergence(A)"
   ]
  },
  {
   "cell_type": "markdown",
   "metadata": {},
   "source": [
    "# Jacobi(not_vect)"
   ]
  },
  {
   "cell_type": "code",
   "execution_count": 16,
   "metadata": {},
   "outputs": [
    {
     "name": "stdout",
     "output_type": "stream",
     "text": [
      "-0.2 ,0.2222222222222222  ,-0.42857142857142855 \n",
      "\n",
      "0.146031746031746 ,0.20317460317460317  ,-0.5174603174603174 \n",
      "\n",
      "0.19174603174603166 ,0.32839506172839505  ,-0.41587301587301584 \n",
      "\n",
      "0.18088183421516751 ,0.33234567901234563  ,-0.42070042831947596 \n",
      "\n",
      "0.18535852859662383 ,0.3292606589961087  ,-0.4243688586545729 \n",
      "\n",
      "0.18632557879118722 ,0.3311604938271605  ,-0.42264908597183726 \n",
      "\n",
      "0.18605364911396655 ,0.3312917580383776  ,-0.42264419089211225 \n",
      "\n",
      "0.1861032177506184 ,0.3312005709148902  ,-0.42274063711577775 \n",
      "\n",
      "0.18612461063542268 ,0.3312278100408481  ,-0.42271344791623616 \n",
      "\n",
      "0.18611919276608097 ,0.33123191998027823  ,-0.42271122696714325 \n",
      "\n",
      "break at 9\n"
     ]
    }
   ],
   "source": [
    "x1=0\n",
    "x2=0\n",
    "x3=0\n",
    "e=[]\n",
    "x1_temp=[]\n",
    "x2_temp=[]\n",
    "x3_temp=[]\n",
    "for i in range(100):\n",
    "    x1_temp.append((2/5)*x2-(3/5)*x3-(1/5))\n",
    "    x2_temp.append((1/3)*x1-(1/9)*x3+(2/9))\n",
    "    x3_temp.append((2/7)*x1-(1/7)*x2-(3/7))\n",
    "    print(\"{} ,{}  ,{} \\n\".format(x1_temp[i],x2_temp[i],x3_temp[i]))\n",
    "    \n",
    "    x1=x1_temp[i]\n",
    "    x2=x2_temp[i]\n",
    "    x3=x3_temp[i]\n",
    "    if(i>=1):\n",
    "        e1=abs(x1_temp[i]-x1_temp[i-1])\n",
    "        e2=abs(x2_temp[i]-x2_temp[i-1])\n",
    "        e3=abs(x3_temp[i]-x3_temp[i-1])\n",
    "        e=np.array([[e1],[e2],[e3]])\n",
    "        if np.linalg.norm(e)<0.00001:\n",
    "                print(\"break at {}\".format(i))\n",
    "                break\n",
    "       \n",
    "    \n",
    "    \n",
    "    "
   ]
  },
  {
   "cell_type": "code",
   "execution_count": 17,
   "metadata": {},
   "outputs": [],
   "source": [
    "## Jacobi Not Vectorized\n",
    "epsilon = 0.00001"
   ]
  },
  {
   "cell_type": "markdown",
   "metadata": {},
   "source": [
    "# Gauss"
   ]
  },
  {
   "cell_type": "code",
   "execution_count": 18,
   "metadata": {},
   "outputs": [
    {
     "name": "stdout",
     "output_type": "stream",
     "text": [
      "-0.2 ,0.15555555555555556  ,-0.5079365079365079 \n",
      "\n",
      "0.16698412698412696 ,0.33432098765432094  ,-0.42862181909800956 \n",
      "\n",
      "0.19090148652053412 ,0.33348069762884575  ,-0.4216682463696825 \n",
      "\n",
      "0.18639322687334775 ,0.3312053252210806  ,-0.42263126735348355 \n",
      "\n",
      "0.18606089050052232 ,0.3312015487616723  ,-0.42272568110866104 \n",
      "\n",
      "0.18611602816986555 ,0.3312304184020286  ,-0.4227140517231853 \n",
      "\n",
      "0.18612059839472267 ,0.3312306496563726  ,-0.4227127789809896 \n",
      "\n",
      "break at 6\n"
     ]
    }
   ],
   "source": [
    "x1=0\n",
    "x2=0\n",
    "x3=0\n",
    "e=[]\n",
    "x1_temp=[]\n",
    "x2_temp=[]\n",
    "x3_temp=[]\n",
    "for i in range(100):\n",
    "    x1=((2/5)*x2-(3/5)*x3-(1/5))\n",
    "    x1_temp.append(x1)\n",
    "    x2=((1/3)*x1-(1/9)*x3+(2/9))\n",
    "    x2_temp.append(x2)\n",
    "    x3=((2/7)*x1-(1/7)*x2-(3/7))\n",
    "    x3_temp.append(x3)\n",
    "    print(\"{} ,{}  ,{} \\n\".format(x1_temp[i],x2_temp[i],x3_temp[i]))\n",
    "    \n",
    "    \n",
    "    if(i>=1):\n",
    "        e1=abs(x1_temp[i]-x1_temp[i-1])\n",
    "        e2=abs(x2_temp[i]-x2_temp[i-1])\n",
    "        e3=abs(x3_temp[i]-x3_temp[i-1])\n",
    "        e=np.array([[e1],[e2],[e3]])\n",
    "        if np.linalg.norm(e)<0.00001:\n",
    "                print(\"break at {}\".format(i))\n",
    "                break\n",
    "       \n",
    "    "
   ]
  },
  {
   "cell_type": "code",
   "execution_count": 19,
   "metadata": {},
   "outputs": [],
   "source": [
    "## Gauss-Seidel Not Vectorized\n",
    "epsilon = 0.00001"
   ]
  },
  {
   "cell_type": "code",
   "execution_count": 20,
   "metadata": {},
   "outputs": [],
   "source": [
    "\n",
    "A = np.array([[5, -2, 3],\n",
    "     [-3, 9, 1],\n",
    "     [2, -1, -7]])\n",
    "\n",
    "b=np.array([[-1],[2],[3]])"
   ]
  },
  {
   "cell_type": "code",
   "execution_count": 21,
   "metadata": {},
   "outputs": [
    {
     "name": "stdout",
     "output_type": "stream",
     "text": [
      "[[ 0 -2  3]\n",
      " [ 0  0  1]\n",
      " [ 0  0  0]]\n"
     ]
    }
   ],
   "source": [
    "x=np.array([[0],[0],[0]])\n",
    "D=np.diag(np.diag(A))\n",
    "u=np.triu(A, k=1)\n",
    "print(u)\n",
    "  #  l=np.tril(A, k=-1)"
   ]
  },
  {
   "cell_type": "code",
   "execution_count": 22,
   "metadata": {},
   "outputs": [],
   "source": [
    "def jacobi_vectorized(A,b):\n",
    "    x=np.array([[0],[0],[0]])\n",
    "    D=np.diag(np.diag(A))\n",
    "    u=-1*np.triu(A, k=1)\n",
    "    l=-1*np.tril(A, k=-1)\n",
    "    D_inv=np.linalg.inv(D)\n",
    "    T=D_inv @(l+u)\n",
    "    spect,_=np.linalg.eig(T)\n",
    "    c=D_inv @b\n",
    "    X_list=[]\n",
    "    X_list.append(x)\n",
    "    for i in range(1000):\n",
    "        x=T@x+c\n",
    "        X_list.append(x)\n",
    "        if np.linalg.norm(abs(X_list[i]-X_list[i-1]))< 0.00001and i>0:\n",
    "            print(\"stop at {} iter\".format(i))\n",
    "            break \n",
    "    print(\"spectral_radius is {}\".format(max(spect)))\n",
    "    print(X_list[-1])\n",
    "\n"
   ]
  },
  {
   "cell_type": "code",
   "execution_count": 23,
   "metadata": {},
   "outputs": [
    {
     "name": "stdout",
     "output_type": "stream",
     "text": [
      "stop at 10 iter\n",
      "spectral_radius is (0.22199197113336008+0j)\n",
      "[[ 0.1861195 ]\n",
      " [ 0.33122987]\n",
      " [-0.42271336]]\n"
     ]
    }
   ],
   "source": [
    "jacobi_vectorized(A,b)"
   ]
  },
  {
   "cell_type": "code",
   "execution_count": 24,
   "metadata": {},
   "outputs": [],
   "source": [
    "def gauss_vectorized(A,b):\n",
    "    x=np.array([[0],[0],[0]])\n",
    "    D=np.diag(np.diag(A))\n",
    "    u=-1*np.triu(A, k=1)\n",
    "    l=-1*np.tril(A, k=-1)\n",
    "    Tg=np.linalg.inv(D-l) @ u\n",
    "    cg=np.linalg.inv(D-l) @ b\n",
    "    spect,_=np.linalg.eig(Tg)\n",
    "\n",
    "    X_list=[]\n",
    "    X_list.append(x)\n",
    "    for i in range(1000):\n",
    "        x=Tg@x+cg\n",
    "        X_list.append(x)\n",
    "        if np.linalg.norm(abs(X_list[i]-X_list[i-1]))< 0.00001and i>0:\n",
    "            print(\"stop at {} iter\".format(i))\n",
    "            break \n",
    "    print(\"spectral_radius is {}\".format(max(spect)))\n",
    "    print(X_list[-1])\n"
   ]
  },
  {
   "cell_type": "code",
   "execution_count": 25,
   "metadata": {},
   "outputs": [
    {
     "name": "stdout",
     "output_type": "stream",
     "text": [
      "stop at 7 iter\n",
      "spectral_radius is (0.003174603174603185+0.11264250793149314j)\n",
      "[[ 0.18611993]\n",
      " [ 0.33123028]\n",
      " [-0.42271292]]\n"
     ]
    }
   ],
   "source": [
    "gauss_vectorized(A,b)"
   ]
  },
  {
   "cell_type": "code",
   "execution_count": 26,
   "metadata": {
    "scrolled": true
   },
   "outputs": [],
   "source": [
    "## Gauss-Seidel Vectorized\n",
    "epsilon = 0.00001\n"
   ]
  },
  {
   "cell_type": "markdown",
   "metadata": {},
   "source": [
    "### Use np.linalg.solve() to solve the previous system and compare the results."
   ]
  },
  {
   "cell_type": "code",
   "execution_count": 27,
   "metadata": {
    "scrolled": true
   },
   "outputs": [
    {
     "data": {
      "text/plain": [
       "array([[ 0.18611987],\n",
       "       [ 0.33123028],\n",
       "       [-0.42271293]])"
      ]
     },
     "execution_count": 27,
     "metadata": {},
     "output_type": "execute_result"
    }
   ],
   "source": [
    "np.linalg.solve(A,b)"
   ]
  },
  {
   "cell_type": "markdown",
   "metadata": {},
   "source": [
    "### Use scipy.linalg.lu() to slove the previous system using LU decomposition and compare the results."
   ]
  },
  {
   "cell_type": "code",
   "execution_count": 28,
   "metadata": {},
   "outputs": [],
   "source": [
    "p,l,u=lu(A)"
   ]
  },
  {
   "cell_type": "code",
   "execution_count": 29,
   "metadata": {},
   "outputs": [
    {
     "data": {
      "text/plain": [
       "array([[1., 0., 0.],\n",
       "       [0., 1., 0.],\n",
       "       [0., 0., 1.]])"
      ]
     },
     "execution_count": 29,
     "metadata": {},
     "output_type": "execute_result"
    }
   ],
   "source": [
    "p"
   ]
  },
  {
   "cell_type": "code",
   "execution_count": 31,
   "metadata": {},
   "outputs": [
    {
     "data": {
      "text/plain": [
       "array([[ 1.        ,  0.        ,  0.        ],\n",
       "       [-0.6       ,  1.        ,  0.        ],\n",
       "       [ 0.4       , -0.02564103,  1.        ]])"
      ]
     },
     "execution_count": 31,
     "metadata": {},
     "output_type": "execute_result"
    }
   ],
   "source": [
    "l"
   ]
  },
  {
   "cell_type": "code",
   "execution_count": 32,
   "metadata": {},
   "outputs": [
    {
     "data": {
      "text/plain": [
       "array([[ 5.        , -2.        ,  3.        ],\n",
       "       [ 0.        ,  7.8       ,  2.8       ],\n",
       "       [ 0.        ,  0.        , -8.12820513]])"
      ]
     },
     "execution_count": 32,
     "metadata": {},
     "output_type": "execute_result"
    }
   ],
   "source": [
    "u"
   ]
  },
  {
   "cell_type": "code",
   "execution_count": 34,
   "metadata": {},
   "outputs": [
    {
     "data": {
      "text/plain": [
       "array([[-1.],\n",
       "       [ 2.],\n",
       "       [ 3.]])"
      ]
     },
     "execution_count": 34,
     "metadata": {},
     "output_type": "execute_result"
    }
   ],
   "source": [
    "p_inv=np.linalg.inv(p)\n",
    "y_new= p_inv @ b\n",
    "y_new"
   ]
  },
  {
   "cell_type": "code",
   "execution_count": 35,
   "metadata": {},
   "outputs": [
    {
     "data": {
      "text/plain": [
       "array([[-1.        ],\n",
       "       [ 1.4       ],\n",
       "       [ 3.43589744]])"
      ]
     },
     "execution_count": 35,
     "metadata": {},
     "output_type": "execute_result"
    }
   ],
   "source": [
    "l_inv=np.linalg.inv(l)\n",
    "M=l_inv @ b\n",
    "M"
   ]
  },
  {
   "cell_type": "code",
   "execution_count": 36,
   "metadata": {},
   "outputs": [
    {
     "data": {
      "text/plain": [
       "array([[ 0.18611987],\n",
       "       [ 0.33123028],\n",
       "       [-0.42271293]])"
      ]
     },
     "execution_count": 36,
     "metadata": {},
     "output_type": "execute_result"
    }
   ],
   "source": [
    "u_inv=np.linalg.inv(u)\n",
    "X=u_inv @ M\n",
    "X"
   ]
  },
  {
   "cell_type": "code",
   "execution_count": 110,
   "metadata": {},
   "outputs": [
    {
     "name": "stdout",
     "output_type": "stream",
     "text": [
      "A = [[ 5 -2  3]\n",
      " [-3  9  1]\n",
      " [ 2 -1 -7]]\n",
      "LU =  [[ 5. -2.  3.]\n",
      " [-3.  9.  1.]\n",
      " [ 2. -1. -7.]]\n",
      "M = [[-1.        ]\n",
      " [ 1.4       ]\n",
      " [ 3.43589744]]\n",
      "\n",
      "Solution: \n",
      "x = [[ 0.1861206 ]\n",
      " [ 0.33123065]\n",
      " [-0.42271278]]\n"
     ]
    }
   ],
   "source": []
  },
  {
   "cell_type": "code",
   "execution_count": null,
   "metadata": {},
   "outputs": [],
   "source": []
  }
 ],
 "metadata": {
  "kernelspec": {
   "display_name": "Python 3",
   "language": "python",
   "name": "python3"
  },
  "language_info": {
   "codemirror_mode": {
    "name": "ipython",
    "version": 3
   },
   "file_extension": ".py",
   "mimetype": "text/x-python",
   "name": "python",
   "nbconvert_exporter": "python",
   "pygments_lexer": "ipython3",
   "version": "3.8.3"
  }
 },
 "nbformat": 4,
 "nbformat_minor": 5
}
